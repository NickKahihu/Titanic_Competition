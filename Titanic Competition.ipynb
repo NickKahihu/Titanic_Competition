{
 "cells": [
  {
   "cell_type": "markdown",
   "id": "cf7eb314",
   "metadata": {},
   "source": [
    "# Titanic Competition\n",
    "\n",
    "*The sinking of the Titanic is one of the most infamous shipwrecks in history.*\n",
    "\n",
    "*On April 15, 1912, during her maiden voyage, the widely considered “unsinkable” RMS Titanic sank after colliding with an         iceberg. Unfortunately, there weren’t enough lifeboats for everyone onboard, resulting in the death of 1502 out of 2224         passengers and crew.*\n",
    "\n",
    "*While there was some element of luck involved in surviving, it seems some groups of people were more likely to survive than      others.*\n",
    "\n",
    "*In this challenge, we ask you to build a predictive model that answers the question: “what sorts of people were more likely      to survive?” using passenger data (ie name, age, gender, socio-economic class, etc)*\n",
    "\n",
    "\n",
    "From the **Titanic Competition** homepage on Kaggle which can be viewed in its entirety [here](https://www.kaggle.com/c/titanic)\n",
    "\n",
    "\n",
    "## Goal:\n",
    "This competition requires the use of  machine learning to create a model that predicts whether or not a passenger survived the Titanic shipwreck.\n",
    "\n",
    "\n",
    "## Major Steps Taken:\n",
    "\n",
    "1. Loading data\n",
    "\n",
    "2. Cleaning data\n",
    "\n",
    "3. Exploring the data through visualization\n",
    "\n",
    "3. Choosing the best model to use\n",
    "\n",
    "5. Hyperparameter tuning of the best model\n",
    "\n",
    "6. Making the predictions and submitting to Kaggle\n"
   ]
  },
  {
   "cell_type": "code",
   "execution_count": 1,
   "id": "c17665fc",
   "metadata": {},
   "outputs": [],
   "source": [
    "#importing the necessary libraries\n",
    "\n",
    "import pandas as pd\n",
    "import numpy as np\n",
    "import matplotlib.pyplot as plt\n",
    "import seaborn as sns\n",
    "from sklearn.preprocessing import OneHotEncoder,StandardScaler\n",
    "from sklearn.model_selection import RandomizedSearchCV\n",
    "from sklearn.impute import KNNImputer,SimpleImputer\n",
    "from sklearn.compose import make_column_transformer\n",
    "from sklearn.pipeline import make_pipeline\n",
    "from sklearn.model_selection import cross_val_score, train_test_split\n",
    "from sklearn.linear_model import LogisticRegression\n",
    "from sklearn.svm import SVC\n",
    "from sklearn.ensemble import RandomForestClassifier\n",
    "from sklearn.neighbors import KNeighborsClassifier\n",
    "from sklearn.model_selection import StratifiedKFold\n",
    "\n",
    "import warnings\n",
    "warnings.filterwarnings('ignore')"
   ]
  },
  {
   "cell_type": "code",
   "execution_count": 2,
   "id": "64033493",
   "metadata": {},
   "outputs": [
    {
     "data": {
      "text/html": [
       "<div>\n",
       "<style scoped>\n",
       "    .dataframe tbody tr th:only-of-type {\n",
       "        vertical-align: middle;\n",
       "    }\n",
       "\n",
       "    .dataframe tbody tr th {\n",
       "        vertical-align: top;\n",
       "    }\n",
       "\n",
       "    .dataframe thead th {\n",
       "        text-align: right;\n",
       "    }\n",
       "</style>\n",
       "<table border=\"1\" class=\"dataframe\">\n",
       "  <thead>\n",
       "    <tr style=\"text-align: right;\">\n",
       "      <th></th>\n",
       "      <th>Survived</th>\n",
       "      <th>Pclass</th>\n",
       "      <th>Name</th>\n",
       "      <th>Sex</th>\n",
       "      <th>Age</th>\n",
       "      <th>SibSp</th>\n",
       "      <th>Parch</th>\n",
       "      <th>Ticket</th>\n",
       "      <th>Fare</th>\n",
       "      <th>Cabin</th>\n",
       "      <th>Embarked</th>\n",
       "    </tr>\n",
       "    <tr>\n",
       "      <th>PassengerId</th>\n",
       "      <th></th>\n",
       "      <th></th>\n",
       "      <th></th>\n",
       "      <th></th>\n",
       "      <th></th>\n",
       "      <th></th>\n",
       "      <th></th>\n",
       "      <th></th>\n",
       "      <th></th>\n",
       "      <th></th>\n",
       "      <th></th>\n",
       "    </tr>\n",
       "  </thead>\n",
       "  <tbody>\n",
       "    <tr>\n",
       "      <th>1</th>\n",
       "      <td>0</td>\n",
       "      <td>3</td>\n",
       "      <td>Braund, Mr. Owen Harris</td>\n",
       "      <td>male</td>\n",
       "      <td>22.0</td>\n",
       "      <td>1</td>\n",
       "      <td>0</td>\n",
       "      <td>A/5 21171</td>\n",
       "      <td>7.2500</td>\n",
       "      <td>NaN</td>\n",
       "      <td>S</td>\n",
       "    </tr>\n",
       "    <tr>\n",
       "      <th>2</th>\n",
       "      <td>1</td>\n",
       "      <td>1</td>\n",
       "      <td>Cumings, Mrs. John Bradley (Florence Briggs Thayer)</td>\n",
       "      <td>female</td>\n",
       "      <td>38.0</td>\n",
       "      <td>1</td>\n",
       "      <td>0</td>\n",
       "      <td>PC 17599</td>\n",
       "      <td>71.2833</td>\n",
       "      <td>C85</td>\n",
       "      <td>C</td>\n",
       "    </tr>\n",
       "    <tr>\n",
       "      <th>3</th>\n",
       "      <td>1</td>\n",
       "      <td>3</td>\n",
       "      <td>Heikkinen, Miss. Laina</td>\n",
       "      <td>female</td>\n",
       "      <td>26.0</td>\n",
       "      <td>0</td>\n",
       "      <td>0</td>\n",
       "      <td>STON/O2. 3101282</td>\n",
       "      <td>7.9250</td>\n",
       "      <td>NaN</td>\n",
       "      <td>S</td>\n",
       "    </tr>\n",
       "    <tr>\n",
       "      <th>4</th>\n",
       "      <td>1</td>\n",
       "      <td>1</td>\n",
       "      <td>Futrelle, Mrs. Jacques Heath (Lily May Peel)</td>\n",
       "      <td>female</td>\n",
       "      <td>35.0</td>\n",
       "      <td>1</td>\n",
       "      <td>0</td>\n",
       "      <td>113803</td>\n",
       "      <td>53.1000</td>\n",
       "      <td>C123</td>\n",
       "      <td>S</td>\n",
       "    </tr>\n",
       "    <tr>\n",
       "      <th>5</th>\n",
       "      <td>0</td>\n",
       "      <td>3</td>\n",
       "      <td>Allen, Mr. William Henry</td>\n",
       "      <td>male</td>\n",
       "      <td>35.0</td>\n",
       "      <td>0</td>\n",
       "      <td>0</td>\n",
       "      <td>373450</td>\n",
       "      <td>8.0500</td>\n",
       "      <td>NaN</td>\n",
       "      <td>S</td>\n",
       "    </tr>\n",
       "  </tbody>\n",
       "</table>\n",
       "</div>"
      ],
      "text/plain": [
       "             Survived  Pclass  \\\n",
       "PassengerId                     \n",
       "1                   0       3   \n",
       "2                   1       1   \n",
       "3                   1       3   \n",
       "4                   1       1   \n",
       "5                   0       3   \n",
       "\n",
       "                                                            Name     Sex  \\\n",
       "PassengerId                                                                \n",
       "1                                        Braund, Mr. Owen Harris    male   \n",
       "2            Cumings, Mrs. John Bradley (Florence Briggs Thayer)  female   \n",
       "3                                         Heikkinen, Miss. Laina  female   \n",
       "4                   Futrelle, Mrs. Jacques Heath (Lily May Peel)  female   \n",
       "5                                       Allen, Mr. William Henry    male   \n",
       "\n",
       "              Age  SibSp  Parch            Ticket     Fare Cabin Embarked  \n",
       "PassengerId                                                                \n",
       "1            22.0      1      0         A/5 21171   7.2500   NaN        S  \n",
       "2            38.0      1      0          PC 17599  71.2833   C85        C  \n",
       "3            26.0      0      0  STON/O2. 3101282   7.9250   NaN        S  \n",
       "4            35.0      1      0            113803  53.1000  C123        S  \n",
       "5            35.0      0      0            373450   8.0500   NaN        S  "
      ]
     },
     "execution_count": 2,
     "metadata": {},
     "output_type": "execute_result"
    }
   ],
   "source": [
    "#Loading in the data\n",
    "\n",
    "train_data=pd.read_csv('train.csv', index_col='PassengerId')\n",
    "test_data=pd.read_csv('test.csv',index_col='PassengerId')\n",
    "\n",
    "pd.set_option('display.max_columns', None)\n",
    "pd.set_option('display.max_rows', None)\n",
    "pd.set_option('display.max_colwidth', None) \n",
    "\n",
    "\n",
    "train_data.head()"
   ]
  },
  {
   "cell_type": "code",
   "execution_count": 3,
   "id": "c5768dd1",
   "metadata": {},
   "outputs": [
    {
     "name": "stdout",
     "output_type": "stream",
     "text": [
      "(891, 11)\n"
     ]
    }
   ],
   "source": [
    "print(train_data.shape)"
   ]
  },
  {
   "cell_type": "code",
   "execution_count": 4,
   "id": "d01592ba",
   "metadata": {},
   "outputs": [
    {
     "name": "stdout",
     "output_type": "stream",
     "text": [
      "(418, 10)\n"
     ]
    }
   ],
   "source": [
    "print(test_data.shape)"
   ]
  },
  {
   "cell_type": "code",
   "execution_count": 5,
   "id": "9476a04f",
   "metadata": {},
   "outputs": [
    {
     "name": "stdout",
     "output_type": "stream",
     "text": [
      "<class 'pandas.core.frame.DataFrame'>\n",
      "Int64Index: 891 entries, 1 to 891\n",
      "Data columns (total 11 columns):\n",
      " #   Column    Non-Null Count  Dtype  \n",
      "---  ------    --------------  -----  \n",
      " 0   Survived  891 non-null    int64  \n",
      " 1   Pclass    891 non-null    int64  \n",
      " 2   Name      891 non-null    object \n",
      " 3   Sex       891 non-null    object \n",
      " 4   Age       714 non-null    float64\n",
      " 5   SibSp     891 non-null    int64  \n",
      " 6   Parch     891 non-null    int64  \n",
      " 7   Ticket    891 non-null    object \n",
      " 8   Fare      891 non-null    float64\n",
      " 9   Cabin     204 non-null    object \n",
      " 10  Embarked  889 non-null    object \n",
      "dtypes: float64(2), int64(4), object(5)\n",
      "memory usage: 83.5+ KB\n",
      "None\n"
     ]
    }
   ],
   "source": [
    "#Here is where we check for the data type and change them accordingly if not proper type\n",
    "print(train_data.info())\n"
   ]
  },
  {
   "cell_type": "code",
   "execution_count": 6,
   "id": "e1aee4f8",
   "metadata": {},
   "outputs": [
    {
     "name": "stdout",
     "output_type": "stream",
     "text": [
      "         Survived      Pclass         Age       SibSp       Parch        Fare\n",
      "count  891.000000  891.000000  714.000000  891.000000  891.000000  891.000000\n",
      "mean     0.383838    2.308642   29.699118    0.523008    0.381594   32.204208\n",
      "std      0.486592    0.836071   14.526497    1.102743    0.806057   49.693429\n",
      "min      0.000000    1.000000    0.420000    0.000000    0.000000    0.000000\n",
      "25%      0.000000    2.000000   20.125000    0.000000    0.000000    7.910400\n",
      "50%      0.000000    3.000000   28.000000    0.000000    0.000000   14.454200\n",
      "75%      1.000000    3.000000   38.000000    1.000000    0.000000   31.000000\n",
      "max      1.000000    3.000000   80.000000    8.000000    6.000000  512.329200\n"
     ]
    }
   ],
   "source": [
    "#To see the characteristics of the numerical features\n",
    "\n",
    "print(train_data.describe())"
   ]
  },
  {
   "cell_type": "code",
   "execution_count": 7,
   "id": "c9a29816",
   "metadata": {},
   "outputs": [
    {
     "name": "stdout",
     "output_type": "stream",
     "text": [
      "                            Name   Sex    Ticket    Cabin Embarked\n",
      "count                        891   891       891      204      889\n",
      "unique                       891     2       681      147        3\n",
      "top     Sage, Mr. George John Jr  male  CA. 2343  B96 B98        S\n",
      "freq                           1   577         7        4      644\n"
     ]
    }
   ],
   "source": [
    "#To see the characteristics of the categorical features\n",
    "\n",
    "print(train_data.describe(include=['O']))"
   ]
  },
  {
   "cell_type": "code",
   "execution_count": 8,
   "id": "619f325c",
   "metadata": {},
   "outputs": [
    {
     "name": "stdout",
     "output_type": "stream",
     "text": [
      "Survived      0\n",
      "Pclass        0\n",
      "Name          0\n",
      "Sex           0\n",
      "Age         177\n",
      "SibSp         0\n",
      "Parch         0\n",
      "Ticket        0\n",
      "Fare          0\n",
      "Cabin       687\n",
      "Embarked      2\n",
      "dtype: int64\n"
     ]
    }
   ],
   "source": [
    "#Finding out the missing values by column\n",
    "\n",
    "print(train_data.isnull().sum())"
   ]
  },
  {
   "cell_type": "code",
   "execution_count": 9,
   "id": "2eaa9d03",
   "metadata": {},
   "outputs": [],
   "source": [
    "# Function to calculate missing values by column\n",
    "def missing_values_table(df):\n",
    "        \n",
    "        mis_val = df.isnull().sum()\n",
    "        mis_val_percent = 100 * df.isnull().sum() / len(df)\n",
    "        mis_val_table = pd.concat([mis_val, mis_val_percent], axis=1)\n",
    "        mis_val_table_ren_columns = mis_val_table.rename(columns = {0 : 'Missing Values', 1 : '% of Total Values'})\n",
    "        mis_val_table_ren_columns = mis_val_table_ren_columns[\n",
    "            mis_val_table_ren_columns.iloc[:,1] != 0].sort_values(\n",
    "        '% of Total Values', ascending=False).round(1)\n",
    "        print (\"Your selected dataframe has \" + str(df.shape[1]) + \" columns.\\n\"      \n",
    "            \"There are \" + str(mis_val_table_ren_columns.shape[0]) +\n",
    "              \" columns that have missing values.\")\n",
    "        return mis_val_table_ren_columns"
   ]
  },
  {
   "cell_type": "code",
   "execution_count": 10,
   "id": "6086a971",
   "metadata": {},
   "outputs": [
    {
     "name": "stdout",
     "output_type": "stream",
     "text": [
      "Your selected dataframe has 11 columns.\n",
      "There are 3 columns that have missing values.\n"
     ]
    },
    {
     "data": {
      "text/html": [
       "<div>\n",
       "<style scoped>\n",
       "    .dataframe tbody tr th:only-of-type {\n",
       "        vertical-align: middle;\n",
       "    }\n",
       "\n",
       "    .dataframe tbody tr th {\n",
       "        vertical-align: top;\n",
       "    }\n",
       "\n",
       "    .dataframe thead th {\n",
       "        text-align: right;\n",
       "    }\n",
       "</style>\n",
       "<table border=\"1\" class=\"dataframe\">\n",
       "  <thead>\n",
       "    <tr style=\"text-align: right;\">\n",
       "      <th></th>\n",
       "      <th>Missing Values</th>\n",
       "      <th>% of Total Values</th>\n",
       "    </tr>\n",
       "  </thead>\n",
       "  <tbody>\n",
       "    <tr>\n",
       "      <th>Cabin</th>\n",
       "      <td>687</td>\n",
       "      <td>77.1</td>\n",
       "    </tr>\n",
       "    <tr>\n",
       "      <th>Age</th>\n",
       "      <td>177</td>\n",
       "      <td>19.9</td>\n",
       "    </tr>\n",
       "    <tr>\n",
       "      <th>Embarked</th>\n",
       "      <td>2</td>\n",
       "      <td>0.2</td>\n",
       "    </tr>\n",
       "  </tbody>\n",
       "</table>\n",
       "</div>"
      ],
      "text/plain": [
       "          Missing Values  % of Total Values\n",
       "Cabin                687               77.1\n",
       "Age                  177               19.9\n",
       "Embarked               2                0.2"
      ]
     },
     "execution_count": 10,
     "metadata": {},
     "output_type": "execute_result"
    }
   ],
   "source": [
    "missing_values_table(train_data)"
   ]
  },
  {
   "cell_type": "code",
   "execution_count": 11,
   "id": "0afcd5c9",
   "metadata": {},
   "outputs": [
    {
     "name": "stdout",
     "output_type": "stream",
     "text": [
      "Your selected dataframe has 11 columns.\n",
      "There are 3 columns that have missing values.\n",
      "We will remove 1 columns.\n"
     ]
    }
   ],
   "source": [
    "\n",
    "# Get the columns with > 50% missing\n",
    "missing_df = missing_values_table(train_data);\n",
    "missing_columns = list(missing_df[missing_df['% of Total Values'] > 50].index)\n",
    "print('We will remove %d columns.' % len(missing_columns))\n",
    "\n",
    "# Drop the columns\n",
    "train_data = train_data.drop(columns = list(missing_columns), axis=1)\n",
    "test_data=test_data.drop(columns=list(missing_columns), axis=1)"
   ]
  },
  {
   "cell_type": "code",
   "execution_count": 12,
   "id": "e562bcfd",
   "metadata": {},
   "outputs": [
    {
     "name": "stdout",
     "output_type": "stream",
     "text": [
      "(891, 10)\n"
     ]
    }
   ],
   "source": [
    "print(train_data.shape)"
   ]
  },
  {
   "cell_type": "code",
   "execution_count": 13,
   "id": "1198ccdd",
   "metadata": {},
   "outputs": [
    {
     "data": {
      "text/html": [
       "<div>\n",
       "<style scoped>\n",
       "    .dataframe tbody tr th:only-of-type {\n",
       "        vertical-align: middle;\n",
       "    }\n",
       "\n",
       "    .dataframe tbody tr th {\n",
       "        vertical-align: top;\n",
       "    }\n",
       "\n",
       "    .dataframe thead th {\n",
       "        text-align: right;\n",
       "    }\n",
       "</style>\n",
       "<table border=\"1\" class=\"dataframe\">\n",
       "  <thead>\n",
       "    <tr style=\"text-align: right;\">\n",
       "      <th></th>\n",
       "      <th>Name</th>\n",
       "      <th>Sex</th>\n",
       "      <th>Ticket</th>\n",
       "      <th>Embarked</th>\n",
       "    </tr>\n",
       "  </thead>\n",
       "  <tbody>\n",
       "    <tr>\n",
       "      <th>count</th>\n",
       "      <td>891</td>\n",
       "      <td>891</td>\n",
       "      <td>891</td>\n",
       "      <td>889</td>\n",
       "    </tr>\n",
       "    <tr>\n",
       "      <th>unique</th>\n",
       "      <td>891</td>\n",
       "      <td>2</td>\n",
       "      <td>681</td>\n",
       "      <td>3</td>\n",
       "    </tr>\n",
       "    <tr>\n",
       "      <th>top</th>\n",
       "      <td>Sage, Mr. George John Jr</td>\n",
       "      <td>male</td>\n",
       "      <td>CA. 2343</td>\n",
       "      <td>S</td>\n",
       "    </tr>\n",
       "    <tr>\n",
       "      <th>freq</th>\n",
       "      <td>1</td>\n",
       "      <td>577</td>\n",
       "      <td>7</td>\n",
       "      <td>644</td>\n",
       "    </tr>\n",
       "  </tbody>\n",
       "</table>\n",
       "</div>"
      ],
      "text/plain": [
       "                            Name   Sex    Ticket Embarked\n",
       "count                        891   891       891      889\n",
       "unique                       891     2       681        3\n",
       "top     Sage, Mr. George John Jr  male  CA. 2343        S\n",
       "freq                           1   577         7      644"
      ]
     },
     "execution_count": 13,
     "metadata": {},
     "output_type": "execute_result"
    }
   ],
   "source": [
    "train_data.describe(include=['O'])"
   ]
  },
  {
   "cell_type": "code",
   "execution_count": 14,
   "id": "57b4382b",
   "metadata": {},
   "outputs": [],
   "source": [
    "#also drop the ticket column as it has too many unique values as seen above\n",
    "train_data=train_data.drop(columns=['Ticket','Name'])\n",
    "test_data=test_data.drop(columns=['Ticket', 'Name'])"
   ]
  },
  {
   "cell_type": "code",
   "execution_count": 15,
   "id": "e0080849",
   "metadata": {},
   "outputs": [
    {
     "name": "stdout",
     "output_type": "stream",
     "text": [
      "(891, 8)\n",
      "(418, 7)\n"
     ]
    }
   ],
   "source": [
    "print(train_data.shape)\n",
    "print(test_data.shape)"
   ]
  },
  {
   "cell_type": "markdown",
   "id": "fbdb7d8f",
   "metadata": {},
   "source": [
    "# Exploratory Data Analysis"
   ]
  },
  {
   "cell_type": "code",
   "execution_count": null,
   "id": "5f7d861e",
   "metadata": {},
   "outputs": [],
   "source": []
  },
  {
   "cell_type": "markdown",
   "id": "606c77ad",
   "metadata": {},
   "source": [
    "## Survived"
   ]
  },
  {
   "cell_type": "code",
   "execution_count": 16,
   "id": "72d38019",
   "metadata": {},
   "outputs": [
    {
     "data": {
      "text/plain": [
       "0    0.616162\n",
       "1    0.383838\n",
       "Name: Survived, dtype: float64"
      ]
     },
     "execution_count": 16,
     "metadata": {},
     "output_type": "execute_result"
    }
   ],
   "source": [
    "train_data['Survived'].value_counts(normalize = True)"
   ]
  },
  {
   "cell_type": "code",
   "execution_count": 17,
   "id": "fccb3ab7",
   "metadata": {},
   "outputs": [
    {
     "data": {
      "text/plain": [
       "Text(0, 0.5, 'Number of observations')"
      ]
     },
     "execution_count": 17,
     "metadata": {},
     "output_type": "execute_result"
    },
    {
     "data": {
      "image/png": "[encoded data removed]",
      "text/plain": [
       "<Figure size 432x288 with 1 Axes>"
      ]
     },
     "metadata": {
      "needs_background": "light"
     },
     "output_type": "display_data"
    }
   ],
   "source": [
    "sns.countplot(x=\"Survived\", data=train_data)\n",
    "plt.title('Distribution of Survival,(1=Survived)')\n",
    "plt.xlabel('Survived, (0=Died, 1=Survived)')\n",
    "plt.ylabel('Number of observations')"
   ]
  },
  {
   "cell_type": "markdown",
   "id": "5c4e6cc5",
   "metadata": {},
   "source": [
    "More people died than survived in the titanic"
   ]
  },
  {
   "cell_type": "markdown",
   "id": "eba2ffca",
   "metadata": {},
   "source": [
    "## Age"
   ]
  },
  {
   "cell_type": "code",
   "execution_count": 18,
   "id": "cf124679",
   "metadata": {},
   "outputs": [
    {
     "data": {
      "text/plain": [
       "Text(0, 0.5, 'Count')"
      ]
     },
     "execution_count": 18,
     "metadata": {},
     "output_type": "execute_result"
    },
    {
     "data": {
      "image/png": "[encoded data removed]",
      "text/plain": [
       "<Figure size 576x576 with 1 Axes>"
      ]
     },
     "metadata": {
      "needs_background": "light"
     },
     "output_type": "display_data"
    }
   ],
   "source": [
    "train_data['Age'].hist(figsize=(8,8))\n",
    "plt.xlabel('Age')\n",
    "plt.ylabel('Count')"
   ]
  },
  {
   "cell_type": "markdown",
   "id": "6b7c7de3",
   "metadata": {},
   "source": [
    "Here we can see that the majority of people are between the ages of 20 and 40"
   ]
  },
  {
   "cell_type": "code",
   "execution_count": 19,
   "id": "e5017bab",
   "metadata": {},
   "outputs": [
    {
     "data": {
      "text/plain": [
       "<AxesSubplot:xlabel='Age'>"
      ]
     },
     "execution_count": 19,
     "metadata": {},
     "output_type": "execute_result"
    },
    {
     "data": {
      "image/png": "[encoded data removed]",
      "text/plain": [
       "<Figure size 432x288 with 1 Axes>"
      ]
     },
     "metadata": {
      "needs_background": "light"
     },
     "output_type": "display_data"
    }
   ],
   "source": [
    "sns.boxplot(x=\"Age\", data=train_data)"
   ]
  },
  {
   "cell_type": "markdown",
   "id": "3c6a2ef3",
   "metadata": {},
   "source": [
    "Here we see that the normal ages are between 1 and 65 years.With people above the ages of 65 seen as  outliers"
   ]
  },
  {
   "cell_type": "code",
   "execution_count": 20,
   "id": "a35c131a",
   "metadata": {},
   "outputs": [
    {
     "data": {
      "text/plain": [
       "<seaborn.axisgrid.FacetGrid at 0x1fdc9297448>"
      ]
     },
     "execution_count": 20,
     "metadata": {},
     "output_type": "execute_result"
    },
    {
     "data": {
      "image/png": "[encoded data removed]",
      "text/plain": [
       "<Figure size 864x216 with 2 Axes>"
      ]
     },
     "metadata": {
      "needs_background": "light"
     },
     "output_type": "display_data"
    }
   ],
   "source": [
    "g = sns.FacetGrid(train_data, col='Survived',aspect=2)\n",
    "g.map(plt.hist, 'Age', bins=20)"
   ]
  },
  {
   "cell_type": "markdown",
   "id": "df00b781",
   "metadata": {},
   "source": [
    "Here above we see that the majority of people who died were aged between the ages of 20 to 40, who from above we deduced to be the majority age."
   ]
  },
  {
   "cell_type": "markdown",
   "id": "e2d58b4c",
   "metadata": {},
   "source": [
    "## Sex"
   ]
  },
  {
   "cell_type": "code",
   "execution_count": 21,
   "id": "18a27ddd",
   "metadata": {},
   "outputs": [
    {
     "data": {
      "text/plain": [
       "<AxesSubplot:xlabel='Sex', ylabel='count'>"
      ]
     },
     "execution_count": 21,
     "metadata": {},
     "output_type": "execute_result"
    },
    {
     "data": {
      "image/png": "[encoded data removed]",
      "text/plain": [
       "<Figure size 432x288 with 1 Axes>"
      ]
     },
     "metadata": {
      "needs_background": "light"
     },
     "output_type": "display_data"
    }
   ],
   "source": [
    "sns.countplot(x=\"Sex\", data=train_data)"
   ]
  },
  {
   "cell_type": "markdown",
   "id": "d17aff4f",
   "metadata": {},
   "source": [
    "We see above that majority of the passengers onboard the Titanic were male"
   ]
  },
  {
   "cell_type": "code",
   "execution_count": 22,
   "id": "55e1d84e",
   "metadata": {},
   "outputs": [
    {
     "data": {
      "image/png": "[encoded data removed]",
      "text/plain": [
       "<Figure size 432x288 with 1 Axes>"
      ]
     },
     "metadata": {
      "needs_background": "light"
     },
     "output_type": "display_data"
    }
   ],
   "source": [
    "sns.countplot(x=\"Sex\", hue=\"Survived\", data=train_data);"
   ]
  },
  {
   "cell_type": "markdown",
   "id": "ff3ca1b8",
   "metadata": {},
   "source": [
    "We see from above that it is mostly the men who died from the titanic tragedy"
   ]
  },
  {
   "cell_type": "markdown",
   "id": "a39d0e1d",
   "metadata": {},
   "source": [
    "## Pclass"
   ]
  },
  {
   "cell_type": "code",
   "execution_count": 23,
   "id": "ad0e378d",
   "metadata": {},
   "outputs": [
    {
     "data": {
      "text/plain": [
       "<AxesSubplot:xlabel='Pclass', ylabel='count'>"
      ]
     },
     "execution_count": 23,
     "metadata": {},
     "output_type": "execute_result"
    },
    {
     "data": {
      "image/png": "[encoded data removed]",
      "text/plain": [
       "<Figure size 432x288 with 1 Axes>"
      ]
     },
     "metadata": {
      "needs_background": "light"
     },
     "output_type": "display_data"
    }
   ],
   "source": [
    "sns.countplot(x='Pclass', data=train_data)"
   ]
  },
  {
   "cell_type": "markdown",
   "id": "9e5019da",
   "metadata": {},
   "source": [
    "Majority of the people who boarded the Titanic were in 3 class.It is also here that we expect the majority of deaths to come from"
   ]
  },
  {
   "cell_type": "code",
   "execution_count": 24,
   "id": "ab667341",
   "metadata": {},
   "outputs": [
    {
     "data": {
      "text/plain": [
       "<AxesSubplot:xlabel='Pclass', ylabel='count'>"
      ]
     },
     "execution_count": 24,
     "metadata": {},
     "output_type": "execute_result"
    },
    {
     "data": {
      "image/png": "[encoded data removed]",
      "text/plain": [
       "<Figure size 432x288 with 1 Axes>"
      ]
     },
     "metadata": {
      "needs_background": "light"
     },
     "output_type": "display_data"
    }
   ],
   "source": [
    "sns.countplot(x='Pclass', hue='Survived', data=train_data)"
   ]
  },
  {
   "cell_type": "markdown",
   "id": "6be1fbdb",
   "metadata": {},
   "source": [
    "As expected majority of the deaths came from the third class.Could be that the class defined the chambers one stayed in and third class chambers were low thus they were exposed to water the longest."
   ]
  },
  {
   "cell_type": "markdown",
   "id": "7799672e",
   "metadata": {},
   "source": [
    "## Fare"
   ]
  },
  {
   "cell_type": "code",
   "execution_count": 25,
   "id": "c1022798",
   "metadata": {},
   "outputs": [
    {
     "data": {
      "text/plain": [
       "Text(0, 0.5, 'Count')"
      ]
     },
     "execution_count": 25,
     "metadata": {},
     "output_type": "execute_result"
    },
    {
     "data": {
      "image/png": "[encoded data removed]",
      "text/plain": [
       "<Figure size 576x576 with 1 Axes>"
      ]
     },
     "metadata": {
      "needs_background": "light"
     },
     "output_type": "display_data"
    }
   ],
   "source": [
    "train_data['Fare'].hist(figsize=(8,8))\n",
    "plt.xlabel('Fare')\n",
    "plt.ylabel('Count')"
   ]
  },
  {
   "cell_type": "markdown",
   "id": "3f4895c6",
   "metadata": {},
   "source": [
    "Here we see that the cheapest fare was paid by majority of the people on board the Titanic.From earlier we saw that the majority\n",
    "of the people were also from the third class.The fare explains why this is so"
   ]
  },
  {
   "cell_type": "code",
   "execution_count": 26,
   "id": "003705c1",
   "metadata": {},
   "outputs": [
    {
     "data": {
      "text/plain": [
       "<AxesSubplot:xlabel='Pclass', ylabel='Fare'>"
      ]
     },
     "execution_count": 26,
     "metadata": {},
     "output_type": "execute_result"
    },
    {
     "data": {
      "image/png": "[encoded data removed]",
      "text/plain": [
       "<Figure size 432x288 with 1 Axes>"
      ]
     },
     "metadata": {
      "needs_background": "light"
     },
     "output_type": "display_data"
    }
   ],
   "source": [
    "#sns.countplot(x='Pclass',y='Fare', data=train_data)\n",
    "sns.barplot(x='Pclass',y='Fare',data=train_data)"
   ]
  },
  {
   "cell_type": "markdown",
   "id": "d753cdb4",
   "metadata": {},
   "source": [
    "Here we can see that the most expensive fare was paid by individuals within the first class and this explains why those indiviuals were the least within the Titanic"
   ]
  },
  {
   "cell_type": "code",
   "execution_count": 27,
   "id": "f87297af",
   "metadata": {},
   "outputs": [
    {
     "data": {
      "text/plain": [
       "<seaborn.axisgrid.FacetGrid at 0x1fdc96f2748>"
      ]
     },
     "execution_count": 27,
     "metadata": {},
     "output_type": "execute_result"
    },
    {
     "data": {
      "image/png": "[encoded data removed]",
      "text/plain": [
       "<Figure size 864x216 with 2 Axes>"
      ]
     },
     "metadata": {
      "needs_background": "light"
     },
     "output_type": "display_data"
    }
   ],
   "source": [
    "g = sns.FacetGrid(train_data, col='Survived',aspect=2)\n",
    "g.map(plt.hist, 'Fare', bins=10)"
   ]
  },
  {
   "cell_type": "markdown",
   "id": "a1a29f64",
   "metadata": {},
   "source": [
    "Again this confirms that the people who died the most paid the least fare"
   ]
  },
  {
   "cell_type": "markdown",
   "id": "821f9f0b",
   "metadata": {},
   "source": [
    "## Embarked"
   ]
  },
  {
   "cell_type": "code",
   "execution_count": 28,
   "id": "850f35a3",
   "metadata": {},
   "outputs": [
    {
     "data": {
      "text/plain": [
       "<AxesSubplot:xlabel='Embarked', ylabel='count'>"
      ]
     },
     "execution_count": 28,
     "metadata": {},
     "output_type": "execute_result"
    },
    {
     "data": {
      "image/png": "[encoded data removed]",
      "text/plain": [
       "<Figure size 432x288 with 1 Axes>"
      ]
     },
     "metadata": {
      "needs_background": "light"
     },
     "output_type": "display_data"
    }
   ],
   "source": [
    "sns.countplot(x='Embarked', data=train_data)"
   ]
  },
  {
   "cell_type": "markdown",
   "id": "82ac50be",
   "metadata": {},
   "source": [
    "Most people embarked from S.Let's see if it offered the cheapest fare"
   ]
  },
  {
   "cell_type": "code",
   "execution_count": 29,
   "id": "ee35646b",
   "metadata": {},
   "outputs": [
    {
     "data": {
      "text/plain": [
       "<AxesSubplot:xlabel='Embarked', ylabel='Fare'>"
      ]
     },
     "execution_count": 29,
     "metadata": {},
     "output_type": "execute_result"
    },
    {
     "data": {
      "image/png": "[encoded data removed]",
      "text/plain": [
       "<Figure size 432x288 with 1 Axes>"
      ]
     },
     "metadata": {
      "needs_background": "light"
     },
     "output_type": "display_data"
    }
   ],
   "source": [
    "sns.barplot(x='Embarked',y='Fare',data=train_data)"
   ]
  },
  {
   "cell_type": "markdown",
   "id": "bed7dcd0",
   "metadata": {},
   "source": [
    "As seen above S didnot offer the cheapest fare.There must have been another reason why people boarded into the Titanic through S"
   ]
  },
  {
   "cell_type": "code",
   "execution_count": 30,
   "id": "f3363d18",
   "metadata": {},
   "outputs": [
    {
     "data": {
      "text/plain": [
       "<AxesSubplot:xlabel='Embarked', ylabel='count'>"
      ]
     },
     "execution_count": 30,
     "metadata": {},
     "output_type": "execute_result"
    },
    {
     "data": {
      "image/png": "[encoded data removed]",
      "text/plain": [
       "<Figure size 432x288 with 1 Axes>"
      ]
     },
     "metadata": {
      "needs_background": "light"
     },
     "output_type": "display_data"
    }
   ],
   "source": [
    "sns.countplot(x='Embarked', hue='Survived', data=train_data)"
   ]
  },
  {
   "cell_type": "markdown",
   "id": "d2e05074",
   "metadata": {},
   "source": [
    "As expected,the majority of the people on the Titanic who died embarked through S"
   ]
  },
  {
   "cell_type": "markdown",
   "id": "f8b4ac85",
   "metadata": {},
   "source": [
    "## Sibsp"
   ]
  },
  {
   "cell_type": "code",
   "execution_count": 31,
   "id": "e181d54f",
   "metadata": {},
   "outputs": [
    {
     "data": {
      "text/plain": [
       "<AxesSubplot:xlabel='SibSp', ylabel='count'>"
      ]
     },
     "execution_count": 31,
     "metadata": {},
     "output_type": "execute_result"
    },
    {
     "data": {
      "image/png": "[encoded data removed]",
      "text/plain": [
       "<Figure size 432x288 with 1 Axes>"
      ]
     },
     "metadata": {
      "needs_background": "light"
     },
     "output_type": "display_data"
    }
   ],
   "source": [
    "sns.countplot(x='SibSp', data=train_data)"
   ]
  },
  {
   "cell_type": "markdown",
   "id": "3fda55f7",
   "metadata": {},
   "source": [
    "majority of the people on board the titanic had no siblings or spouses"
   ]
  },
  {
   "cell_type": "code",
   "execution_count": 32,
   "id": "3660f67b",
   "metadata": {},
   "outputs": [
    {
     "data": {
      "text/plain": [
       "<AxesSubplot:xlabel='SibSp', ylabel='count'>"
      ]
     },
     "execution_count": 32,
     "metadata": {},
     "output_type": "execute_result"
    },
    {
     "data": {
      "image/png": "[encoded data removed]",
      "text/plain": [
       "<Figure size 432x288 with 1 Axes>"
      ]
     },
     "metadata": {
      "needs_background": "light"
     },
     "output_type": "display_data"
    }
   ],
   "source": [
    "sns.countplot(x='SibSp',hue='Survived', data=train_data)"
   ]
  },
  {
   "cell_type": "markdown",
   "id": "ea021f99",
   "metadata": {},
   "source": [
    "As expected majority of the deaths came from those without siblings or spouses"
   ]
  },
  {
   "cell_type": "markdown",
   "id": "bc7c7012",
   "metadata": {},
   "source": [
    "## Parch"
   ]
  },
  {
   "cell_type": "code",
   "execution_count": 33,
   "id": "7db4591e",
   "metadata": {},
   "outputs": [
    {
     "data": {
      "text/plain": [
       "<AxesSubplot:xlabel='Parch', ylabel='count'>"
      ]
     },
     "execution_count": 33,
     "metadata": {},
     "output_type": "execute_result"
    },
    {
     "data": {
      "image/png": "[encoded data removed]",
      "text/plain": [
       "<Figure size 432x288 with 1 Axes>"
      ]
     },
     "metadata": {
      "needs_background": "light"
     },
     "output_type": "display_data"
    }
   ],
   "source": [
    "sns.countplot(x='Parch', data=train_data)"
   ]
  },
  {
   "cell_type": "markdown",
   "id": "d1a0e1e2",
   "metadata": {},
   "source": [
    "Majority of the people had neither parents nor children on board"
   ]
  },
  {
   "cell_type": "code",
   "execution_count": 34,
   "id": "6588f86d",
   "metadata": {},
   "outputs": [
    {
     "data": {
      "text/plain": [
       "<AxesSubplot:xlabel='Parch', ylabel='count'>"
      ]
     },
     "execution_count": 34,
     "metadata": {},
     "output_type": "execute_result"
    },
    {
     "data": {
      "image/png": "[encoded data removed]",
      "text/plain": [
       "<Figure size 432x288 with 1 Axes>"
      ]
     },
     "metadata": {
      "needs_background": "light"
     },
     "output_type": "display_data"
    }
   ],
   "source": [
    "sns.countplot(x='Parch',hue='Survived',data=train_data)"
   ]
  },
  {
   "cell_type": "markdown",
   "id": "ce6cbe35",
   "metadata": {},
   "source": [
    "Also as expected majority of the people who died had no parents or children"
   ]
  },
  {
   "cell_type": "code",
   "execution_count": null,
   "id": "7d54d7a1",
   "metadata": {},
   "outputs": [],
   "source": []
  },
  {
   "cell_type": "markdown",
   "id": "cb212c30",
   "metadata": {},
   "source": [
    "## Correlation analysis"
   ]
  },
  {
   "cell_type": "code",
   "execution_count": 35,
   "id": "6f1511e2",
   "metadata": {},
   "outputs": [
    {
     "name": "stdout",
     "output_type": "stream",
     "text": [
      "          Survived    Pclass       Age     SibSp     Parch      Fare\n",
      "Survived  1.000000 -0.338481 -0.077221 -0.035322  0.081629  0.257307\n",
      "Pclass   -0.338481  1.000000 -0.369226  0.083081  0.018443 -0.549500\n",
      "Age      -0.077221 -0.369226  1.000000 -0.308247 -0.189119  0.096067\n",
      "SibSp    -0.035322  0.083081 -0.308247  1.000000  0.414838  0.159651\n",
      "Parch     0.081629  0.018443 -0.189119  0.414838  1.000000  0.216225\n",
      "Fare      0.257307 -0.549500  0.096067  0.159651  0.216225  1.000000\n"
     ]
    }
   ],
   "source": [
    "correlation=train_data.corr()\n",
    "print(correlation)"
   ]
  },
  {
   "cell_type": "code",
   "execution_count": 36,
   "id": "593fb57e",
   "metadata": {},
   "outputs": [
    {
     "data": {
      "text/plain": [
       "<AxesSubplot:>"
      ]
     },
     "execution_count": 36,
     "metadata": {},
     "output_type": "execute_result"
    },
    {
     "data": {
      "image/png": "[encoded data removed]",
      "text/plain": [
       "<Figure size 432x288 with 2 Axes>"
      ]
     },
     "metadata": {
      "needs_background": "light"
     },
     "output_type": "display_data"
    }
   ],
   "source": [
    "sns.heatmap(np.abs(correlation),          # use absolute values\n",
    "        xticklabels=correlation.columns,\n",
    "        yticklabels=correlation.columns,\n",
    "         vmin=-1, vmax=1,cmap=\"RdYlGn\")"
   ]
  },
  {
   "cell_type": "markdown",
   "id": "3d882af7",
   "metadata": {},
   "source": [
    "Pclass, Fare have a high correlation with Survived. They themselves are also highly correlated"
   ]
  },
  {
   "cell_type": "markdown",
   "id": "ade7b14a",
   "metadata": {},
   "source": [
    "## Feature engineering"
   ]
  },
  {
   "cell_type": "code",
   "execution_count": 37,
   "id": "42da09e0",
   "metadata": {},
   "outputs": [
    {
     "name": "stdout",
     "output_type": "stream",
     "text": [
      "<class 'pandas.core.frame.DataFrame'>\n",
      "Int64Index: 891 entries, 1 to 891\n",
      "Data columns (total 8 columns):\n",
      " #   Column    Non-Null Count  Dtype   \n",
      "---  ------    --------------  -----   \n",
      " 0   Survived  891 non-null    int64   \n",
      " 1   Pclass    891 non-null    int64   \n",
      " 2   Sex       891 non-null    category\n",
      " 3   Age       714 non-null    float64 \n",
      " 4   SibSp     891 non-null    int64   \n",
      " 5   Parch     891 non-null    int64   \n",
      " 6   Fare      891 non-null    float64 \n",
      " 7   Embarked  889 non-null    category\n",
      "dtypes: category(2), float64(2), int64(4)\n",
      "memory usage: 83.0 KB\n"
     ]
    }
   ],
   "source": [
    "#Change the data type of the categorical features from object to category\n",
    "\n",
    "object_columns = train_data.select_dtypes(include='object')\n",
    "\n",
    "\n",
    "for column in object_columns:\n",
    "    train_data[column] = train_data[column].astype('category')\n",
    "\n",
    "    \n",
    "train_data.info()"
   ]
  },
  {
   "cell_type": "code",
   "execution_count": 38,
   "id": "c132ed82",
   "metadata": {},
   "outputs": [
    {
     "name": "stdout",
     "output_type": "stream",
     "text": [
      "(891, 7)\n"
     ]
    }
   ],
   "source": [
    "train_data2=train_data.drop(columns='Survived', axis=1)\n",
    "print(train_data2.shape)"
   ]
  },
  {
   "cell_type": "code",
   "execution_count": 39,
   "id": "7d49b71c",
   "metadata": {},
   "outputs": [
    {
     "name": "stdout",
     "output_type": "stream",
     "text": [
      "Index(['Pclass', 'Age', 'SibSp', 'Parch', 'Fare'], dtype='object')\n"
     ]
    }
   ],
   "source": [
    "#Separating the entire dataframe into numerical and categorical features\n",
    "numerical_features = train_data2.select_dtypes(include=['int64', 'float64']).columns\n",
    "\n",
    "categorical_features = train_data2.select_dtypes(include=['category']).columns \n",
    "print(numerical_features)"
   ]
  },
  {
   "cell_type": "code",
   "execution_count": 40,
   "id": "0706e69e",
   "metadata": {},
   "outputs": [
    {
     "name": "stdout",
     "output_type": "stream",
     "text": [
      "Index(['Pclass', 'Age', 'SibSp', 'Parch', 'Fare'], dtype='object')\n"
     ]
    }
   ],
   "source": [
    "#train-test-split\n",
    "X=train_data2\n",
    "y=train_data['Survived']\n",
    "\n",
    "X_train,X_test,y_train, y_test=train_test_split(X, y, test_size=0.25, random_state=1)\n",
    "print(numerical_features)"
   ]
  },
  {
   "cell_type": "markdown",
   "id": "10ac5046",
   "metadata": {},
   "source": [
    "## Making a pipeline with column transformer"
   ]
  },
  {
   "cell_type": "code",
   "execution_count": 41,
   "id": "6f5272c1",
   "metadata": {},
   "outputs": [],
   "source": [
    "preprocessor=make_column_transformer(\n",
    "\n",
    "             (make_pipeline(\n",
    "             KNNImputer(missing_values=np.nan, n_neighbors=10, weights='distance'),\n",
    "             StandardScaler()),numerical_features),\n",
    "    \n",
    "           \n",
    "             (make_pipeline(\n",
    "             SimpleImputer(missing_values=np.nan, strategy='most_frequent'),\n",
    "             OneHotEncoder(handle_unknown='ignore')),categorical_features),\n",
    "    \n",
    "    \n",
    ")"
   ]
  },
  {
   "cell_type": "code",
   "execution_count": 42,
   "id": "3b95e2cb",
   "metadata": {},
   "outputs": [
    {
     "data": {
      "text/plain": [
       "array([[ 0.81738199,  0.30830823, -0.48942917, ...,  0.        ,\n",
       "         1.        ,  0.        ],\n",
       "       [ 0.81738199,  1.2139054 ,  0.49236869, ...,  0.        ,\n",
       "         0.        ,  1.        ],\n",
       "       [-0.38794068,  2.300622  , -0.48942917, ...,  0.        ,\n",
       "         1.        ,  0.        ],\n",
       "       ...,\n",
       "       [ 0.81738199,  0.59809932, -0.48942917, ...,  0.        ,\n",
       "         0.        ,  1.        ],\n",
       "       [ 0.81738199, -0.18433663, -0.48942917, ...,  0.        ,\n",
       "         0.        ,  1.        ],\n",
       "       [ 0.81738199, -0.50941529,  0.49236869, ...,  1.        ,\n",
       "         0.        ,  0.        ]])"
      ]
     },
     "execution_count": 42,
     "metadata": {},
     "output_type": "execute_result"
    }
   ],
   "source": [
    "#Fitting and transforming the training and testing data\n",
    "\n",
    "preprocessor.fit_transform(X_train)\n",
    "preprocessor.transform(X_test)\n",
    "preprocessor.transform(test_data)"
   ]
  },
  {
   "cell_type": "markdown",
   "id": "063e0ca5",
   "metadata": {},
   "source": [
    "## Choosing Best ML model"
   ]
  },
  {
   "cell_type": "code",
   "execution_count": 43,
   "id": "99117ee4",
   "metadata": {},
   "outputs": [
    {
     "name": "stdout",
     "output_type": "stream",
     "text": [
      "LogisticRegression: 0.8024843945068664\n",
      "Support Vector Classification: 0.8260549313358302\n",
      "KNeighborsClassifier: 0.8069662921348314\n",
      "RandomForestClassifier: 0.8126466916354556\n"
     ]
    }
   ],
   "source": [
    "logreg=LogisticRegression()\n",
    "svc=SVC()\n",
    "knn=KNeighborsClassifier(n_neighbors=13)\n",
    "random_forest=RandomForestClassifier(n_estimators=13)\n",
    "\n",
    "classifier_model=[('LogisticRegression',logreg),('Support Vector Classification', svc),('KNeighborsClassifier', knn),('RandomForestClassifier',random_forest)]\n",
    "\n",
    "for classifier, name in classifier_model:\n",
    "    pipe=make_pipeline(preprocessor, name)\n",
    "    score=cross_val_score(pipe,X,y, cv=10, scoring='accuracy').mean()\n",
    "    print(f'{classifier}: {score}')"
   ]
  },
  {
   "cell_type": "markdown",
   "id": "717327d8",
   "metadata": {},
   "source": [
    "As seen above, the Support Vector Classification is the best model to try and predict the fates of the people on the titanic"
   ]
  },
  {
   "cell_type": "markdown",
   "id": "1d1d7f47",
   "metadata": {},
   "source": [
    "## Hyper parameter tuning of the best model"
   ]
  },
  {
   "cell_type": "code",
   "execution_count": 44,
   "id": "c70f1dbf",
   "metadata": {},
   "outputs": [
    {
     "name": "stdout",
     "output_type": "stream",
     "text": [
      "Fitting 5 folds for each of 25 candidates, totalling 125 fits\n",
      "Best score: 0.8323869374929862\n",
      "Best parameters: {'svc__tol': 0.005, 'svc__kernel': 'rbf', 'svc__gamma': 'auto', 'svc__decision_function_shape': 'ovo', 'svc__C': 10}\n"
     ]
    }
   ],
   "source": [
    "svc = SVC()\n",
    "parameter_grid = {\n",
    "             'svc__C' : [0.001, 0.01, 0.1,100,1,10],\n",
    "             'svc__kernel' : ['linear', 'poly', 'rbf', 'sigmoid', 'precomputed'],\n",
    "             'svc__gamma' : ['scale', 'auto'],\n",
    "             'svc__decision_function_shape' : ['ovo', 'ovr'],\n",
    "              'svc__tol': [0.001,0.003,0.005,0.009]\n",
    "             }\n",
    "\n",
    "pipe=make_pipeline(preprocessor,svc)\n",
    "cross_validation = StratifiedKFold()\n",
    "cross_validation.get_n_splits(y_train)\n",
    " \n",
    "randomized_search = RandomizedSearchCV(pipe,\n",
    "                           scoring='accuracy',\n",
    "                           param_distributions=parameter_grid,\n",
    "                           cv=cross_validation,\n",
    "                           random_state=1,\n",
    "                           verbose=1,\n",
    "                           n_jobs=-1,\n",
    "                           n_iter= 25)\n",
    " \n",
    "randomized_search.fit(X_train, y_train)\n",
    "parameters = randomized_search.best_params_\n",
    " \n",
    "print(f'Best score: {randomized_search.best_score_}')\n",
    "print(f'Best parameters: {randomized_search.best_params_}')"
   ]
  },
  {
   "cell_type": "markdown",
   "id": "ac4eb115",
   "metadata": {},
   "source": [
    "## Prediction"
   ]
  },
  {
   "cell_type": "code",
   "execution_count": 45,
   "id": "2819c68a",
   "metadata": {},
   "outputs": [],
   "source": [
    "y_pred=randomized_search.predict(test_data)"
   ]
  },
  {
   "cell_type": "code",
   "execution_count": 46,
   "id": "2c6053ff",
   "metadata": {},
   "outputs": [],
   "source": [
    "\n",
    "submission = pd.DataFrame({\n",
    "        \"PassengerId\": test_data.index,\n",
    "        \"Survived\": y_pred\n",
    "    })\n",
    "submission.to_csv('submission.csv', index=False)"
   ]
  },
  {
   "cell_type": "code",
   "execution_count": null,
   "id": "762e9f86",
   "metadata": {},
   "outputs": [],
   "source": []
  },
  {
   "cell_type": "markdown",
   "id": "82b656ef",
   "metadata": {},
   "source": [
    "Kaggle gave this submission an accuracy prediction of 77.272%. As I gain more information, I will make changes to improve the score."
   ]
  },
  {
   "cell_type": "code",
   "execution_count": null,
   "id": "eaf099cd",
   "metadata": {},
   "outputs": [],
   "source": []
  }
 ],
 "metadata": {
  "kernelspec": {
   "display_name": "Python 3",
   "language": "python",
   "name": "python3"
  },
  "language_info": {
   "codemirror_mode": {
    "name": "ipython",
    "version": 3
   },
   "file_extension": ".py",
   "mimetype": "text/x-python",
   "name": "python",
   "nbconvert_exporter": "python",
   "pygments_lexer": "ipython3",
   "version": "3.7.6"
  }
 },
 "nbformat": 4,
 "nbformat_minor": 5
}
